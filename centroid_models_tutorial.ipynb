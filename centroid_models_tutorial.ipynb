{
 "cells": [
  {
   "cell_type": "code",
   "execution_count": 1,
   "metadata": {},
   "outputs": [],
   "source": [
    "# import make_blobs from sklearn\n",
    "from sklearn.datasets import make_blobs\n",
    "\n",
    "# import matplotlib\n",
    "import matplotlib.pyplot as plt\n",
    "\n",
    "# import Kmeans from sklearn\n",
    "from sklearn.cluster import KMeans\n",
    "\n",
    "# import numpy\n",
    "import numpy as np"
   ]
  },
  {
   "cell_type": "code",
   "execution_count": 2,
   "metadata": {},
   "outputs": [],
   "source": [
    "# generate clusters \n",
    "X, y = make_blobs(n_samples=150,\n",
    "                  n_features=2,\n",
    "                  centers=3,\n",
    "                  cluster_std=0.5,\n",
    "                  random_state=0)\n"
   ]
  },
  {
   "cell_type": "code",
   "execution_count": 3,
   "metadata": {},
   "outputs": [
    {
     "data": {
      "text/plain": [
       "(array([[ 2.60509732,  1.22529553],\n",
       "        [ 0.5323772 ,  3.31338909],\n",
       "        [ 0.802314  ,  4.38196181],\n",
       "        [ 0.5285368 ,  4.49723858],\n",
       "        [ 2.61858548,  0.35769791],\n",
       "        [ 1.59141542,  4.90497725],\n",
       "        [ 1.74265969,  5.03846671],\n",
       "        [ 2.37533328,  0.08918564],\n",
       "        [-2.12133364,  2.66447408],\n",
       "        [ 1.72039618,  5.25173192],\n",
       "        [ 3.1368855 ,  1.56592763],\n",
       "        [-0.37494566,  2.38787435],\n",
       "        [-1.84562253,  2.71924635],\n",
       "        [ 0.72144399,  4.08475018],\n",
       "        [ 0.16117091,  4.53517846],\n",
       "        [-1.99912714,  2.71285741],\n",
       "        [-1.47804153,  3.2093591 ],\n",
       "        [ 1.8706766 ,  0.77797407],\n",
       "        [-1.5933443 ,  2.76898682],\n",
       "        [ 2.03562611,  0.31361691],\n",
       "        [ 0.64003985,  4.12401075],\n",
       "        [ 2.4411628 ,  1.30941574],\n",
       "        [ 1.13280393,  3.87673946],\n",
       "        [ 1.04829186,  5.03092408],\n",
       "        [-1.26637157,  2.62998828],\n",
       "        [ 2.31690585,  0.81189049],\n",
       "        [ 2.36230721,  1.358767  ],\n",
       "        [ 1.2091013 ,  3.53566548],\n",
       "        [-2.54224625,  3.95012869],\n",
       "        [ 1.4815332 ,  0.67875364],\n",
       "        [-1.59487886,  3.48632794],\n",
       "        [-1.82556205,  2.7989214 ],\n",
       "        [-1.13374003,  2.68467271],\n",
       "        [-1.758702  ,  3.158623  ],\n",
       "        [ 0.3498724 ,  4.69253251],\n",
       "        [ 1.68548602,  1.66917096],\n",
       "        [ 2.989047  ,  1.35068599],\n",
       "        [ 1.73734448,  1.23588031],\n",
       "        [ 0.65910903,  4.12241674],\n",
       "        [ 1.15445328,  4.65707391],\n",
       "        [-1.32738084,  1.53158588],\n",
       "        [-1.6814105 ,  2.07988036],\n",
       "        [ 0.34102758,  4.78848568],\n",
       "        [ 1.87827057,  0.21018801],\n",
       "        [ 2.13860427,  1.21517938],\n",
       "        [ 2.48368283,  0.57215086],\n",
       "        [-1.18113464,  3.26525683],\n",
       "        [ 2.11114739,  3.57660449],\n",
       "        [-1.19371247,  2.68752237],\n",
       "        [ 1.45131429,  4.22810872],\n",
       "        [ 1.83769075,  1.82229552],\n",
       "        [ 0.44089377,  4.83101319],\n",
       "        [ 1.08040757,  4.79210685],\n",
       "        [ 1.84845803,  0.52393625],\n",
       "        [ 2.3914149 ,  1.10139458],\n",
       "        [-1.44865074,  3.03397278],\n",
       "        [ 0.72086751,  3.71347124],\n",
       "        [ 3.01673853,  1.63792106],\n",
       "        [-1.18199493,  3.56880538],\n",
       "        [ 1.34081536,  4.36827878],\n",
       "        [-2.31837321,  3.22307195],\n",
       "        [-0.54894786,  3.11292892],\n",
       "        [-1.6823471 ,  2.96658234],\n",
       "        [-1.53541422,  3.10745813],\n",
       "        [ 1.06498315,  4.10289686],\n",
       "        [-0.39724954,  2.89675369],\n",
       "        [ 1.03972612,  4.50478201],\n",
       "        [ 1.62465468,  1.85269614],\n",
       "        [-0.30022483,  4.63059663],\n",
       "        [ 0.12313498,  5.27917503],\n",
       "        [ 1.54597042,  3.68637442],\n",
       "        [ 1.44254976,  1.31984515],\n",
       "        [ 2.52889351,  0.82015861],\n",
       "        [ 0.38970838,  5.27559792],\n",
       "        [ 1.5381461 ,  1.23846092],\n",
       "        [ 0.82049381,  4.33187   ],\n",
       "        [ 1.56565986,  4.21382491],\n",
       "        [-1.93358614,  2.1846701 ],\n",
       "        [-1.38373217,  3.22230418],\n",
       "        [ 0.96217896,  4.51795326],\n",
       "        [ 1.71810119,  0.91357894],\n",
       "        [ 1.65356269,  0.55288877],\n",
       "        [ 0.4519936 ,  3.59377836],\n",
       "        [ 1.19820169,  4.47062449],\n",
       "        [ 2.20438661,  1.56085661],\n",
       "        [ 3.24683991,  1.3699034 ],\n",
       "        [ 2.51569693,  1.05702749],\n",
       "        [-1.79833475,  3.12590728],\n",
       "        [-2.0495307 ,  3.52345491],\n",
       "        [ 2.36788325,  0.09663483],\n",
       "        [ 2.24348029,  0.34796326],\n",
       "        [ 0.99914934,  4.2101954 ],\n",
       "        [ 1.30963873,  1.11735951],\n",
       "        [ 0.77468161,  4.91500986],\n",
       "        [ 1.70798359,  0.82284639],\n",
       "        [ 1.91784543,  3.6299078 ],\n",
       "        [-2.00487651,  2.74489137],\n",
       "        [-2.10499523,  3.30848131],\n",
       "        [ 1.39731382,  0.66687136],\n",
       "        [ 2.02114672,  1.75433502],\n",
       "        [ 1.67030948,  1.16728826],\n",
       "        [ 2.52997792,  0.94143928],\n",
       "        [-2.18016744,  3.7469476 ],\n",
       "        [ 2.00604126,  0.56592452],\n",
       "        [ 1.50307585,  0.9237462 ],\n",
       "        [ 1.05374379,  4.49286859],\n",
       "        [-1.72662853,  3.10291021],\n",
       "        [ 1.72330962,  4.2012082 ],\n",
       "        [ 0.92466065,  4.50908658],\n",
       "        [ 0.39369516,  4.75420057],\n",
       "        [-1.31377465,  3.25633628],\n",
       "        [ 0.78260667,  4.15263595],\n",
       "        [ 1.82750127,  0.90640324],\n",
       "        [-1.2649585 ,  2.9620933 ],\n",
       "        [ 0.98152009,  5.19672257],\n",
       "        [-2.49504392,  3.01227156],\n",
       "        [ 1.00952869,  4.45502328],\n",
       "        [ 1.40848818,  3.93270482],\n",
       "        [-1.28003312,  2.85983029],\n",
       "        [-1.82506103,  2.89159861],\n",
       "        [ 0.5408715 ,  4.0143625 ],\n",
       "        [ 2.64928242,  1.05613497],\n",
       "        [ 0.5226209 ,  4.32976003],\n",
       "        [ 0.16932115,  4.19741719],\n",
       "        [ 1.8062513 ,  1.86242969],\n",
       "        [ 1.92126584,  1.29889186],\n",
       "        [-1.53906708,  2.54886681],\n",
       "        [ 1.68289011,  0.48444439],\n",
       "        [-2.29730252,  2.94951326],\n",
       "        [-1.45592743,  2.75821805],\n",
       "        [-1.38694171,  2.86880707],\n",
       "        [-1.07181456,  3.07649137],\n",
       "        [ 1.40883907,  1.03118909],\n",
       "        [-1.58598604,  2.57779316],\n",
       "        [-1.58217434,  3.42796862],\n",
       "        [-0.77966174,  1.88288975],\n",
       "        [ 0.56969694,  3.44064603],\n",
       "        [-1.8531083 ,  2.72240557],\n",
       "        [ 1.59885641,  1.4561718 ],\n",
       "        [-1.84094779,  2.6773687 ],\n",
       "        [ 1.35678894,  4.36462484],\n",
       "        [ 1.1774409 ,  3.96138228],\n",
       "        [ 1.73345832, -0.21403792],\n",
       "        [ 2.34356293,  0.79351428],\n",
       "        [-0.95073823,  3.45769156],\n",
       "        [-2.23893447,  2.67122232],\n",
       "        [-1.87292894,  3.68607079],\n",
       "        [-1.8897027 ,  2.22620028],\n",
       "        [ 2.25327088,  0.35113291],\n",
       "        [ 1.55515985,  0.12527811]]),\n",
       " array([1, 0, 0, 0, 1, 0, 0, 1, 2, 0, 1, 2, 2, 0, 0, 2, 2, 1, 2, 1, 0, 1,\n",
       "        0, 0, 2, 1, 1, 0, 2, 1, 2, 2, 2, 2, 0, 1, 1, 1, 0, 0, 2, 2, 0, 1,\n",
       "        1, 1, 2, 0, 2, 0, 1, 0, 0, 1, 1, 2, 0, 1, 2, 0, 2, 2, 2, 2, 0, 2,\n",
       "        0, 1, 0, 0, 0, 1, 1, 0, 1, 0, 0, 2, 2, 0, 1, 1, 0, 0, 1, 1, 1, 2,\n",
       "        2, 1, 1, 0, 1, 0, 1, 0, 2, 2, 1, 1, 1, 1, 2, 1, 1, 0, 2, 0, 0, 0,\n",
       "        2, 0, 1, 2, 0, 2, 0, 0, 2, 2, 0, 1, 0, 0, 1, 1, 2, 1, 2, 2, 2, 2,\n",
       "        1, 2, 2, 2, 0, 2, 1, 2, 0, 0, 1, 1, 2, 2, 2, 2, 1, 1]))"
      ]
     },
     "execution_count": 3,
     "metadata": {},
     "output_type": "execute_result"
    }
   ],
   "source": [
    "X, y"
   ]
  },
  {
   "cell_type": "code",
   "execution_count": 4,
   "metadata": {},
   "outputs": [
    {
     "data": {
      "text/plain": [
       "(150, 2)"
      ]
     },
     "execution_count": 4,
     "metadata": {},
     "output_type": "execute_result"
    }
   ],
   "source": [
    "X.shape"
   ]
  },
  {
   "cell_type": "code",
   "execution_count": 5,
   "metadata": {},
   "outputs": [
    {
     "data": {
      "image/png": "[encoded data removed]",
      "text/plain": [
       "<Figure size 864x576 with 1 Axes>"
      ]
     },
     "metadata": {
      "needs_background": "light"
     },
     "output_type": "display_data"
    }
   ],
   "source": [
    "# set figure size\n",
    "plt.rcParams[\"figure.figsize\"] = (12,8)\n",
    "\n",
    "# plot clusters\n",
    "plt.scatter(X[:,0],\n",
    "            X[:,1],\n",
    "            c='black',\n",
    "            marker='o')\n",
    "plt.grid()\n",
    "plt.show()"
   ]
  },
  {
   "cell_type": "code",
   "execution_count": 6,
   "metadata": {},
   "outputs": [],
   "source": [
    "km = KMeans(n_clusters=3, # how many clusters we expected \n",
    "            n_init=10, # how many initial runs\n",
    "            random_state=0)\n"
   ]
  },
  {
   "cell_type": "code",
   "execution_count": 7,
   "metadata": {},
   "outputs": [],
   "source": [
    "# fit and predict\n",
    "y_km = km.fit_predict(X)"
   ]
  },
  {
   "cell_type": "code",
   "execution_count": 8,
   "metadata": {},
   "outputs": [
    {
     "data": {
      "text/plain": [
       "array([1, 2, 2, 2, 1, 2, 2, 1, 0, 2, 1, 0, 0, 2, 2, 0, 0, 1, 0, 1, 2, 1,\n",
       "       2, 2, 0, 1, 1, 2, 0, 1, 0, 0, 0, 0, 2, 1, 1, 1, 2, 2, 0, 0, 2, 1,\n",
       "       1, 1, 0, 2, 0, 2, 1, 2, 2, 1, 1, 0, 2, 1, 0, 2, 0, 0, 0, 0, 2, 0,\n",
       "       2, 1, 2, 2, 2, 1, 1, 2, 1, 2, 2, 0, 0, 2, 1, 1, 2, 2, 1, 1, 1, 0,\n",
       "       0, 1, 1, 2, 1, 2, 1, 2, 0, 0, 1, 1, 1, 1, 0, 1, 1, 2, 0, 2, 2, 2,\n",
       "       0, 2, 1, 0, 2, 0, 2, 2, 0, 0, 2, 1, 2, 2, 1, 1, 0, 1, 0, 0, 0, 0,\n",
       "       1, 0, 0, 0, 2, 0, 1, 0, 2, 2, 1, 1, 0, 0, 0, 0, 1, 1], dtype=int32)"
      ]
     },
     "execution_count": 8,
     "metadata": {},
     "output_type": "execute_result"
    }
   ],
   "source": [
    "y_km"
   ]
  },
  {
   "cell_type": "code",
   "execution_count": 9,
   "metadata": {},
   "outputs": [],
   "source": [
    "def plot_clusters(X,y_res, plt_cluster_centers = False):\n",
    "    X_centroids = []\n",
    "    Y_centroids = []\n",
    "\n",
    "    for cluster in set(y_res):\n",
    "        x = X[y_res == cluster,0]\n",
    "        y = X[y_res == cluster,1]\n",
    "        X_centroids.append(np.mean(x))\n",
    "        Y_centroids.append(np.mean(y))\n",
    "\n",
    "        plt.scatter(x,\n",
    "                    y,\n",
    "                    s=50,\n",
    "                    marker='s',\n",
    "                    label=f'cluster {cluster}')\n",
    "\n",
    "    if plt_cluster_centers:\n",
    "        plt.scatter(X_centroids,\n",
    "                    Y_centroids,\n",
    "                    marker='*',\n",
    "                    c='red',\n",
    "                    s=250,\n",
    "                    label='centroids')\n",
    "    plt.legend()\n",
    "    plt.grid()\n",
    "    plt.show()"
   ]
  },
  {
   "cell_type": "code",
   "execution_count": 10,
   "metadata": {},
   "outputs": [
    {
     "data": {
      "image/png": "[encoded data removed]",
      "text/plain": [
       "<Figure size 864x576 with 1 Axes>"
      ]
     },
     "metadata": {
      "needs_background": "light"
     },
     "output_type": "display_data"
    }
   ],
   "source": [
    "# plot clustering result\n",
    "plot_clusters(X, y_km, plt_cluster_centers= True)"
   ]
  },
  {
   "cell_type": "code",
   "execution_count": 11,
   "metadata": {},
   "outputs": [
    {
     "data": {
      "text/plain": [
       "{0, 1, 2}"
      ]
     },
     "execution_count": 11,
     "metadata": {},
     "output_type": "execute_result"
    }
   ],
   "source": [
    "set(y_km)"
   ]
  },
  {
   "cell_type": "code",
   "execution_count": 12,
   "metadata": {},
   "outputs": [
    {
     "data": {
      "text/plain": [
       "array([[-2.12133364,  2.66447408],\n",
       "       [-0.37494566,  2.38787435],\n",
       "       [-1.84562253,  2.71924635],\n",
       "       [-1.99912714,  2.71285741],\n",
       "       [-1.47804153,  3.2093591 ],\n",
       "       [-1.5933443 ,  2.76898682],\n",
       "       [-1.26637157,  2.62998828],\n",
       "       [-2.54224625,  3.95012869],\n",
       "       [-1.59487886,  3.48632794],\n",
       "       [-1.82556205,  2.7989214 ],\n",
       "       [-1.13374003,  2.68467271],\n",
       "       [-1.758702  ,  3.158623  ],\n",
       "       [-1.32738084,  1.53158588],\n",
       "       [-1.6814105 ,  2.07988036],\n",
       "       [-1.18113464,  3.26525683],\n",
       "       [-1.19371247,  2.68752237],\n",
       "       [-1.44865074,  3.03397278],\n",
       "       [-1.18199493,  3.56880538],\n",
       "       [-2.31837321,  3.22307195],\n",
       "       [-0.54894786,  3.11292892],\n",
       "       [-1.6823471 ,  2.96658234],\n",
       "       [-1.53541422,  3.10745813],\n",
       "       [-0.39724954,  2.89675369],\n",
       "       [-1.93358614,  2.1846701 ],\n",
       "       [-1.38373217,  3.22230418],\n",
       "       [-1.79833475,  3.12590728],\n",
       "       [-2.0495307 ,  3.52345491],\n",
       "       [-2.00487651,  2.74489137],\n",
       "       [-2.10499523,  3.30848131],\n",
       "       [-2.18016744,  3.7469476 ],\n",
       "       [-1.72662853,  3.10291021],\n",
       "       [-1.31377465,  3.25633628],\n",
       "       [-1.2649585 ,  2.9620933 ],\n",
       "       [-2.49504392,  3.01227156],\n",
       "       [-1.28003312,  2.85983029],\n",
       "       [-1.82506103,  2.89159861],\n",
       "       [-1.53906708,  2.54886681],\n",
       "       [-2.29730252,  2.94951326],\n",
       "       [-1.45592743,  2.75821805],\n",
       "       [-1.38694171,  2.86880707],\n",
       "       [-1.07181456,  3.07649137],\n",
       "       [-1.58598604,  2.57779316],\n",
       "       [-1.58217434,  3.42796862],\n",
       "       [-0.77966174,  1.88288975],\n",
       "       [-1.8531083 ,  2.72240557],\n",
       "       [-1.84094779,  2.6773687 ],\n",
       "       [-0.95073823,  3.45769156],\n",
       "       [-2.23893447,  2.67122232],\n",
       "       [-1.87292894,  3.68607079],\n",
       "       [-1.8897027 ,  2.22620028]])"
      ]
     },
     "execution_count": 12,
     "metadata": {},
     "output_type": "execute_result"
    }
   ],
   "source": [
    "X[y_km == 0]"
   ]
  },
  {
   "cell_type": "code",
   "execution_count": 13,
   "metadata": {},
   "outputs": [
    {
     "data": {
      "text/plain": [
       "array([-2.12133364, -0.37494566, -1.84562253, -1.99912714, -1.47804153,\n",
       "       -1.5933443 , -1.26637157, -2.54224625, -1.59487886, -1.82556205,\n",
       "       -1.13374003, -1.758702  , -1.32738084, -1.6814105 , -1.18113464,\n",
       "       -1.19371247, -1.44865074, -1.18199493, -2.31837321, -0.54894786,\n",
       "       -1.6823471 , -1.53541422, -0.39724954, -1.93358614, -1.38373217,\n",
       "       -1.79833475, -2.0495307 , -2.00487651, -2.10499523, -2.18016744,\n",
       "       -1.72662853, -1.31377465, -1.2649585 , -2.49504392, -1.28003312,\n",
       "       -1.82506103, -1.53906708, -2.29730252, -1.45592743, -1.38694171,\n",
       "       -1.07181456, -1.58598604, -1.58217434, -0.77966174, -1.8531083 ,\n",
       "       -1.84094779, -0.95073823, -2.23893447, -1.87292894, -1.8897027 ])"
      ]
     },
     "execution_count": 13,
     "metadata": {},
     "output_type": "execute_result"
    }
   ],
   "source": [
    "X[y_km == 0, 0]"
   ]
  },
  {
   "cell_type": "code",
   "execution_count": 14,
   "metadata": {},
   "outputs": [],
   "source": [
    "def plot_distortion(X,max_clusters = 10):\n",
    "    distortions = []\n",
    "    for i in range(1, max_clusters +1):\n",
    "        km = KMeans(n_clusters=i,\n",
    "                    init='k-means++',\n",
    "                    n_init=10,\n",
    "                    random_state=0)\n",
    "        km.fit(X)\n",
    "        distortions.append(km.inertia_)\n",
    "\n",
    "    plt.plot(range(1,max_clusters +1), distortions, marker='o')\n",
    "    plt.xlabel('Number of clusters')\n",
    "    plt.ylabel('Distortion')\n",
    "    plt.show() "
   ]
  },
  {
   "cell_type": "code",
   "execution_count": 15,
   "metadata": {},
   "outputs": [
    {
     "data": {
      "image/png": "[encoded data removed]",
      "text/plain": [
       "<Figure size 864x576 with 1 Axes>"
      ]
     },
     "metadata": {
      "needs_background": "light"
     },
     "output_type": "display_data"
    }
   ],
   "source": [
    "# elbow rule\n",
    "plot_distortion(X,max_clusters=10)"
   ]
  },
  {
   "cell_type": "code",
   "execution_count": null,
   "metadata": {},
   "outputs": [],
   "source": []
  }
 ],
 "metadata": {
  "kernelspec": {
   "display_name": "Python 3",
   "language": "python",
   "name": "python3"
  },
  "language_info": {
   "codemirror_mode": {
    "name": "ipython",
    "version": 3
   },
   "file_extension": ".py",
   "mimetype": "text/x-python",
   "name": "python",
   "nbconvert_exporter": "python",
   "pygments_lexer": "ipython3",
   "version": "3.8.3"
  }
 },
 "nbformat": 4,
 "nbformat_minor": 4
}
