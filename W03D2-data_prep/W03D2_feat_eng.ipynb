{
 "cells": [
  {
   "cell_type": "markdown",
   "metadata": {
    "slideshow": {
     "slide_type": "slide"
    }
   },
   "source": [
    "# Data Prep\n"
   ]
  },
  {
   "cell_type": "markdown",
   "metadata": {
    "slideshow": {
     "slide_type": "slide"
    }
   },
   "source": [
    "## Agenda\n",
    "Machine Learning Workflow:\n",
    "* Feature Engineering"
   ]
  },
  {
   "cell_type": "markdown",
   "metadata": {
    "slideshow": {
     "slide_type": "slide"
    }
   },
   "source": [
    "## Machine Learning Workflow\n",
    "\n",
    "<img src='imgs/data-science-explore.png' width=800>\n",
    "\n",
    "- Iterative process\n",
    "- Non-linear process\n",
    "- Lots of judgement and refining along the way\n",
    "- Lots of time spent in data prep\n",
    "- \"Big data\": a lot of time can be spent in data retrieval\n",
    "\n",
    "Source: Practical Machine Learning with Python, Apress/Springer"
   ]
  },
  {
   "cell_type": "markdown",
   "metadata": {
    "slideshow": {
     "slide_type": "slide"
    }
   },
   "source": [
    "## Machine Learning Workflow\n",
    "\n",
    "<img src='imgs/data-science-explore.png' width=600>\n",
    "\n",
    "### Data Retrieval\n",
    "- We've covered a lot of this\n",
    "- SQL, APIs, Web Scraping, csv, Excel...\n",
    "- Could include combining some of the above\n",
    "- Also called \"Data Ingestion\""
   ]
  },
  {
   "cell_type": "markdown",
   "metadata": {
    "slideshow": {
     "slide_type": "slide"
    }
   },
   "source": [
    "## Machine Learning Workflow\n",
    "\n",
    "<img src='imgs/data-science-explore.png' width=600>\n",
    "\n",
    "### Data Preparation\n",
    "- **Processing and Wrangling**: Covered this too, `pandas` etc.\n",
    "- **Feature extraction and engineering**: What features (i.e., variables, `x`) do I need for my problem?\n",
    "- **Feature scaling and selection**: To be covered"
   ]
  },
  {
   "cell_type": "markdown",
   "metadata": {
    "slideshow": {
     "slide_type": "slide"
    }
   },
   "source": [
    "## Machine Learning Workflow\n",
    "\n",
    "<img src='imgs/data-science-explore.png' width=600>\n",
    "\n",
    "### Modeling (i.e., machine learning)\n",
    "- `scikit-learn` being the main basic package\n",
    "- Other packages for deep learning\n",
    "- Supervised vs. unsupervised learning\n",
    "- \"Build a model\""
   ]
  },
  {
   "cell_type": "markdown",
   "metadata": {
    "slideshow": {
     "slide_type": "slide"
    }
   },
   "source": [
    "## Machine Learning Workflow\n",
    "\n",
    "<img src='imgs/data-science-explore.png' width=600>\n",
    "\n",
    "### Machine Learning Algorithm\n",
    "- **\"Algorithm\"**: series of steps based on rules that a computer takes to calculate something\n",
    "- Within supervised:\n",
    "    - Regression: `y` is a continuous number (e.g., price)\n",
    "    - Classification: `y` is discrete (e.g., customer retained or not)\n",
    "- Examples: decision trees, linear regression, neural networks\n",
    "    "
   ]
  },
  {
   "cell_type": "markdown",
   "metadata": {
    "slideshow": {
     "slide_type": "slide"
    }
   },
   "source": [
    "## Machine Learning Workflow\n",
    "\n",
    "<img src='imgs/data-science-explore.png' width=600>\n",
    "\n",
    "### Model Evaluation & Tuning\n",
    "- Our first model will probably not be the best model; need to pick\n",
    "- **Evaluation**: Using metrics to pick the best model for the use case\n",
    "- **Tuning**: Besides picking between algorithms, there are 'knobs' / settings to 'tune' a model for a specific algorithm"
   ]
  },
  {
   "cell_type": "markdown",
   "metadata": {
    "slideshow": {
     "slide_type": "slide"
    }
   },
   "source": [
    "## Machine Learning Workflow\n",
    "\n",
    "<img src='imgs/data-science-explore.png' width=600>\n",
    "\n",
    "### Deployment & Monitoring\n",
    "- We picked a model and it's ready for use by our users\n",
    "- Be careful about concept drift\n",
    "- Models sometimes need to be re-trained"
   ]
  },
  {
   "cell_type": "markdown",
   "metadata": {
    "slideshow": {
     "slide_type": "slide"
    }
   },
   "source": [
    "## Types of Questions\n",
    "\n",
    "\n",
    "| Type of question | Description | Example |\n",
    "|:---|:--------------------------|:----------------|\n",
    "| **Descriptive** | Summarize a characteristic of a set of data| Proportion of males, the mean number of servings of fresh fruits and vegetables per day |\n",
    "| **Exploratory** | Analyze the data to see if there are patterns, trends, or relationships between variables; “hypothesis-generating” analyses|If you had a general thought that diet was linked somehow to viral illnesses, start by examining relationships between a range of dietary factors and viral illnesses|\n",
    "| **Inferential** | Testing a hypothesis, statistically |Analyzing data for a subset / sample of the population and generalizing insights for the general population; Is there a higher incidence of cancer for women than for men?|\n",
    "| **Predictive**  | Predicting a value, not necessarily figuring out why| Predicting cancer diagnosis from x-rays using computer vision|\n",
    "| **Causal**      | Whether changing one factor will change another factor | Does changing diet lead to higher incidence of cancer?|\n",
    "| **Mechanistic** | Understanding *how* one factor changes another | How does diet lead to higher incidence of cancer? |"
   ]
  },
  {
   "cell_type": "markdown",
   "metadata": {
    "slideshow": {
     "slide_type": "slide"
    }
   },
   "source": [
    "## Feature Engineering\n",
    "\n",
    "<blockquote>\n",
    "Feature engineering is the process of transforming raw data into features that better represent the underlying problem to the predictive models, resulting in improved model accuracy on unseen data.<br> \n",
    "- Jason Brownlee    \n",
    "</blockquote>    \n",
    "\n",
    "- If your features, i.e., representation is bad, whatever fancier model you build is not going to help.\n",
    "\n",
    "A quote by Pedro Domingos [A Few Useful Things to Know About Machine Learning](https://homes.cs.washington.edu/~pedrod/papers/cacm12.pdf)"
   ]
  },
  {
   "cell_type": "markdown",
   "metadata": {
    "slideshow": {
     "slide_type": "slide"
    }
   },
   "source": [
    "## Feature Engineering\n",
    "\n",
    "<blockquote>\n",
    "... At the end of the day, some machine learning projects succeed and some fail. What makes the difference? Easily the most important factor is the features used. \n",
    "</blockquote>\n",
    "\n",
    "\n",
    "A quote by Andrew Ng, [Machine Learning and AI via Brain simulations](https://ai.stanford.edu/~ang/slides/DeepLearning-Mar2013.pptx)\n",
    "\n",
    "<blockquote>\n",
    "Coming up with features is difficult, time-consuming, requires expert knowledge. \"Applied machine learning\" is basically feature engineering.\n",
    "</blockquote>\n",
    "\n",
    "- Better features: more flexibility, we can get by with simple models, better accuracy "
   ]
  },
  {
   "cell_type": "markdown",
   "metadata": {
    "slideshow": {
     "slide_type": "slide"
    }
   },
   "source": [
    "## Feature Engineering\n",
    "\n",
    "#### Better features usually help more than a better model.\n",
    "- Good features would ideally:\n",
    "    - capture most important aspects of the problem\n",
    "    - allow learning with few examples \n",
    "    - generalize to new scenarios.\n",
    "    \n",
    "    \n",
    "#### The best features may be dependent on the model you use.\n",
    "\n",
    "#### The best features are very domain and problem specific."
   ]
  },
  {
   "cell_type": "markdown",
   "metadata": {},
   "source": [
    "### Feature Engineering: Examples\n",
    "\n",
    "<br>\n",
    "<br>\n",
    "\n",
    "**Example 1:** Taking a date and extracting out the week number, weekday, month etc. \n",
    "\n",
    "Sales is often based on seasonality."
   ]
  },
  {
   "cell_type": "markdown",
   "metadata": {},
   "source": [
    "### Feature Engineering: Examples\n",
    "\n",
    "<br>\n",
    "<br>\n",
    "\n",
    "**Example 2:** Taking freeform text (e.g., tweets) and extracting number of words, counts of words, punctuation etc.\n",
    "\n",
    "Text \"metadata\" can sometimes help with sentiment analysis."
   ]
  },
  {
   "cell_type": "markdown",
   "metadata": {
    "scrolled": false
   },
   "source": [
    "### Feature Engineering: Examples\n",
    "\n",
    "<br>\n",
    "<br>\n",
    "\n",
    "**Example 3:** Taking geographical coordinates and getting continent, country, urban vs. rural etc.\n",
    "\n",
    "Housing price can depend on features extracted from geographical coordinates; coordinates aren't that useful themselves."
   ]
  },
  {
   "cell_type": "markdown",
   "metadata": {},
   "source": [
    "### Feature Engineering: Examples\n",
    "\n",
    "<br>\n",
    "<br>\n",
    "\n",
    "**Example 4:** Combining features to increase the predictive power.\n",
    "\n",
    "In the example below, we have BMI. Let's assume that we do not; we have only height and weight that are not that useful for predicting if a person has a diabetes. On the other hand, BMI is.\n",
    "\n",
    "\\begin{align}\n",
    "BMI = \\frac{weight}{height^2} * 703\n",
    "\\end{align}"
   ]
  },
  {
   "cell_type": "code",
   "execution_count": 2,
   "metadata": {},
   "outputs": [
    {
     "data": {
      "text/html": [
       "<div>\n",
       "<style scoped>\n",
       "    .dataframe tbody tr th:only-of-type {\n",
       "        vertical-align: middle;\n",
       "    }\n",
       "\n",
       "    .dataframe tbody tr th {\n",
       "        vertical-align: top;\n",
       "    }\n",
       "\n",
       "    .dataframe thead th {\n",
       "        text-align: right;\n",
       "    }\n",
       "</style>\n",
       "<table border=\"1\" class=\"dataframe\">\n",
       "  <thead>\n",
       "    <tr style=\"text-align: right;\">\n",
       "      <th></th>\n",
       "      <th>Pregnancies</th>\n",
       "      <th>Glucose</th>\n",
       "      <th>BloodPressure</th>\n",
       "      <th>SkinThickness</th>\n",
       "      <th>Insulin</th>\n",
       "      <th>BMI</th>\n",
       "      <th>DiabetesPedigreeFunction</th>\n",
       "      <th>Age</th>\n",
       "      <th>Outcome</th>\n",
       "    </tr>\n",
       "  </thead>\n",
       "  <tbody>\n",
       "    <tr>\n",
       "      <th>0</th>\n",
       "      <td>6</td>\n",
       "      <td>148</td>\n",
       "      <td>72</td>\n",
       "      <td>35</td>\n",
       "      <td>0</td>\n",
       "      <td>33.6</td>\n",
       "      <td>0.627</td>\n",
       "      <td>50</td>\n",
       "      <td>1</td>\n",
       "    </tr>\n",
       "    <tr>\n",
       "      <th>1</th>\n",
       "      <td>1</td>\n",
       "      <td>85</td>\n",
       "      <td>66</td>\n",
       "      <td>29</td>\n",
       "      <td>0</td>\n",
       "      <td>26.6</td>\n",
       "      <td>0.351</td>\n",
       "      <td>31</td>\n",
       "      <td>0</td>\n",
       "    </tr>\n",
       "    <tr>\n",
       "      <th>2</th>\n",
       "      <td>8</td>\n",
       "      <td>183</td>\n",
       "      <td>64</td>\n",
       "      <td>0</td>\n",
       "      <td>0</td>\n",
       "      <td>23.3</td>\n",
       "      <td>0.672</td>\n",
       "      <td>32</td>\n",
       "      <td>1</td>\n",
       "    </tr>\n",
       "    <tr>\n",
       "      <th>3</th>\n",
       "      <td>1</td>\n",
       "      <td>89</td>\n",
       "      <td>66</td>\n",
       "      <td>23</td>\n",
       "      <td>94</td>\n",
       "      <td>28.1</td>\n",
       "      <td>0.167</td>\n",
       "      <td>21</td>\n",
       "      <td>0</td>\n",
       "    </tr>\n",
       "    <tr>\n",
       "      <th>4</th>\n",
       "      <td>0</td>\n",
       "      <td>137</td>\n",
       "      <td>40</td>\n",
       "      <td>35</td>\n",
       "      <td>168</td>\n",
       "      <td>43.1</td>\n",
       "      <td>2.288</td>\n",
       "      <td>33</td>\n",
       "      <td>1</td>\n",
       "    </tr>\n",
       "  </tbody>\n",
       "</table>\n",
       "</div>"
      ],
      "text/plain": [
       "   Pregnancies  Glucose  BloodPressure  SkinThickness  Insulin   BMI  \\\n",
       "0            6      148             72             35        0  33.6   \n",
       "1            1       85             66             29        0  26.6   \n",
       "2            8      183             64              0        0  23.3   \n",
       "3            1       89             66             23       94  28.1   \n",
       "4            0      137             40             35      168  43.1   \n",
       "\n",
       "   DiabetesPedigreeFunction  Age  Outcome  \n",
       "0                     0.627   50        1  \n",
       "1                     0.351   31        0  \n",
       "2                     0.672   32        1  \n",
       "3                     0.167   21        0  \n",
       "4                     2.288   33        1  "
      ]
     },
     "execution_count": 2,
     "metadata": {},
     "output_type": "execute_result"
    }
   ],
   "source": [
    "import pandas as pd\n",
    "diabetes_df = pd.read_csv('data/diabetes.csv')\n",
    "diabetes_df.head()"
   ]
  },
  {
   "cell_type": "markdown",
   "metadata": {},
   "source": [
    "### Feature Engineering: Examples\n",
    "\n",
    "<br>\n",
    "<br>\n",
    "\n",
    "**Example 5:** Dimensionality Reduction\n",
    "\n",
    "You will see what I mean after the lunch"
   ]
  },
  {
   "cell_type": "code",
   "execution_count": null,
   "metadata": {},
   "outputs": [],
   "source": []
  }
 ],
 "metadata": {
  "celltoolbar": "Slideshow",
  "kernelspec": {
   "display_name": "Python 3",
   "language": "python",
   "name": "python3"
  },
  "language_info": {
   "codemirror_mode": {
    "name": "ipython",
    "version": 3
   },
   "file_extension": ".py",
   "mimetype": "text/x-python",
   "name": "python",
   "nbconvert_exporter": "python",
   "pygments_lexer": "ipython3",
   "version": "3.7.6"
  }
 },
 "nbformat": 4,
 "nbformat_minor": 4
}
