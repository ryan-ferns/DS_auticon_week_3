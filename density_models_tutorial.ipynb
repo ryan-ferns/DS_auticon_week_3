{
 "cells": [
  {
   "cell_type": "code",
   "execution_count": 1,
   "metadata": {},
   "outputs": [],
   "source": [
    "# import libraries\n",
    "from sklearn.datasets import make_blobs\n",
    "import matplotlib.pyplot as plt\n",
    "import numpy as np\n",
    "\n",
    "# generate clusters \n",
    "X, y = make_blobs(n_samples=150,\n",
    "                  n_features=2,\n",
    "                  centers=3,\n",
    "                  cluster_std=0.5,\n",
    "                  random_state=0)\n",
    "\n",
    "\n",
    "def plot_clusters(X,y_res, plt_cluster_centers = False):\n",
    "    X_centroids = []\n",
    "    Y_centroids = []\n",
    "\n",
    "    for cluster in set(y_res):\n",
    "        x = X[y_res == cluster,0]\n",
    "        y = X[y_res == cluster,1]\n",
    "        X_centroids.append(np.mean(x))\n",
    "        Y_centroids.append(np.mean(y))\n",
    "\n",
    "        plt.scatter(x,\n",
    "                    y,\n",
    "                    s=50,\n",
    "                    marker='s',\n",
    "                    label=f'cluster {cluster}')\n",
    "\n",
    "    if plt_cluster_centers:\n",
    "        plt.scatter(X_centroids,\n",
    "                    Y_centroids,\n",
    "                    marker='*',\n",
    "                    c='red',\n",
    "                    s=250,\n",
    "                    label='centroids')\n",
    "    plt.legend()\n",
    "    plt.grid()\n",
    "    plt.show()"
   ]
  },
  {
   "cell_type": "code",
   "execution_count": 2,
   "metadata": {},
   "outputs": [
    {
     "data": {
      "text/plain": [
       "(array([[ 2.60509732,  1.22529553],\n",
       "        [ 0.5323772 ,  3.31338909],\n",
       "        [ 0.802314  ,  4.38196181],\n",
       "        [ 0.5285368 ,  4.49723858],\n",
       "        [ 2.61858548,  0.35769791],\n",
       "        [ 1.59141542,  4.90497725],\n",
       "        [ 1.74265969,  5.03846671],\n",
       "        [ 2.37533328,  0.08918564],\n",
       "        [-2.12133364,  2.66447408],\n",
       "        [ 1.72039618,  5.25173192],\n",
       "        [ 3.1368855 ,  1.56592763],\n",
       "        [-0.37494566,  2.38787435],\n",
       "        [-1.84562253,  2.71924635],\n",
       "        [ 0.72144399,  4.08475018],\n",
       "        [ 0.16117091,  4.53517846],\n",
       "        [-1.99912714,  2.71285741],\n",
       "        [-1.47804153,  3.2093591 ],\n",
       "        [ 1.8706766 ,  0.77797407],\n",
       "        [-1.5933443 ,  2.76898682],\n",
       "        [ 2.03562611,  0.31361691],\n",
       "        [ 0.64003985,  4.12401075],\n",
       "        [ 2.4411628 ,  1.30941574],\n",
       "        [ 1.13280393,  3.87673946],\n",
       "        [ 1.04829186,  5.03092408],\n",
       "        [-1.26637157,  2.62998828],\n",
       "        [ 2.31690585,  0.81189049],\n",
       "        [ 2.36230721,  1.358767  ],\n",
       "        [ 1.2091013 ,  3.53566548],\n",
       "        [-2.54224625,  3.95012869],\n",
       "        [ 1.4815332 ,  0.67875364],\n",
       "        [-1.59487886,  3.48632794],\n",
       "        [-1.82556205,  2.7989214 ],\n",
       "        [-1.13374003,  2.68467271],\n",
       "        [-1.758702  ,  3.158623  ],\n",
       "        [ 0.3498724 ,  4.69253251],\n",
       "        [ 1.68548602,  1.66917096],\n",
       "        [ 2.989047  ,  1.35068599],\n",
       "        [ 1.73734448,  1.23588031],\n",
       "        [ 0.65910903,  4.12241674],\n",
       "        [ 1.15445328,  4.65707391],\n",
       "        [-1.32738084,  1.53158588],\n",
       "        [-1.6814105 ,  2.07988036],\n",
       "        [ 0.34102758,  4.78848568],\n",
       "        [ 1.87827057,  0.21018801],\n",
       "        [ 2.13860427,  1.21517938],\n",
       "        [ 2.48368283,  0.57215086],\n",
       "        [-1.18113464,  3.26525683],\n",
       "        [ 2.11114739,  3.57660449],\n",
       "        [-1.19371247,  2.68752237],\n",
       "        [ 1.45131429,  4.22810872],\n",
       "        [ 1.83769075,  1.82229552],\n",
       "        [ 0.44089377,  4.83101319],\n",
       "        [ 1.08040757,  4.79210685],\n",
       "        [ 1.84845803,  0.52393625],\n",
       "        [ 2.3914149 ,  1.10139458],\n",
       "        [-1.44865074,  3.03397278],\n",
       "        [ 0.72086751,  3.71347124],\n",
       "        [ 3.01673853,  1.63792106],\n",
       "        [-1.18199493,  3.56880538],\n",
       "        [ 1.34081536,  4.36827878],\n",
       "        [-2.31837321,  3.22307195],\n",
       "        [-0.54894786,  3.11292892],\n",
       "        [-1.6823471 ,  2.96658234],\n",
       "        [-1.53541422,  3.10745813],\n",
       "        [ 1.06498315,  4.10289686],\n",
       "        [-0.39724954,  2.89675369],\n",
       "        [ 1.03972612,  4.50478201],\n",
       "        [ 1.62465468,  1.85269614],\n",
       "        [-0.30022483,  4.63059663],\n",
       "        [ 0.12313498,  5.27917503],\n",
       "        [ 1.54597042,  3.68637442],\n",
       "        [ 1.44254976,  1.31984515],\n",
       "        [ 2.52889351,  0.82015861],\n",
       "        [ 0.38970838,  5.27559792],\n",
       "        [ 1.5381461 ,  1.23846092],\n",
       "        [ 0.82049381,  4.33187   ],\n",
       "        [ 1.56565986,  4.21382491],\n",
       "        [-1.93358614,  2.1846701 ],\n",
       "        [-1.38373217,  3.22230418],\n",
       "        [ 0.96217896,  4.51795326],\n",
       "        [ 1.71810119,  0.91357894],\n",
       "        [ 1.65356269,  0.55288877],\n",
       "        [ 0.4519936 ,  3.59377836],\n",
       "        [ 1.19820169,  4.47062449],\n",
       "        [ 2.20438661,  1.56085661],\n",
       "        [ 3.24683991,  1.3699034 ],\n",
       "        [ 2.51569693,  1.05702749],\n",
       "        [-1.79833475,  3.12590728],\n",
       "        [-2.0495307 ,  3.52345491],\n",
       "        [ 2.36788325,  0.09663483],\n",
       "        [ 2.24348029,  0.34796326],\n",
       "        [ 0.99914934,  4.2101954 ],\n",
       "        [ 1.30963873,  1.11735951],\n",
       "        [ 0.77468161,  4.91500986],\n",
       "        [ 1.70798359,  0.82284639],\n",
       "        [ 1.91784543,  3.6299078 ],\n",
       "        [-2.00487651,  2.74489137],\n",
       "        [-2.10499523,  3.30848131],\n",
       "        [ 1.39731382,  0.66687136],\n",
       "        [ 2.02114672,  1.75433502],\n",
       "        [ 1.67030948,  1.16728826],\n",
       "        [ 2.52997792,  0.94143928],\n",
       "        [-2.18016744,  3.7469476 ],\n",
       "        [ 2.00604126,  0.56592452],\n",
       "        [ 1.50307585,  0.9237462 ],\n",
       "        [ 1.05374379,  4.49286859],\n",
       "        [-1.72662853,  3.10291021],\n",
       "        [ 1.72330962,  4.2012082 ],\n",
       "        [ 0.92466065,  4.50908658],\n",
       "        [ 0.39369516,  4.75420057],\n",
       "        [-1.31377465,  3.25633628],\n",
       "        [ 0.78260667,  4.15263595],\n",
       "        [ 1.82750127,  0.90640324],\n",
       "        [-1.2649585 ,  2.9620933 ],\n",
       "        [ 0.98152009,  5.19672257],\n",
       "        [-2.49504392,  3.01227156],\n",
       "        [ 1.00952869,  4.45502328],\n",
       "        [ 1.40848818,  3.93270482],\n",
       "        [-1.28003312,  2.85983029],\n",
       "        [-1.82506103,  2.89159861],\n",
       "        [ 0.5408715 ,  4.0143625 ],\n",
       "        [ 2.64928242,  1.05613497],\n",
       "        [ 0.5226209 ,  4.32976003],\n",
       "        [ 0.16932115,  4.19741719],\n",
       "        [ 1.8062513 ,  1.86242969],\n",
       "        [ 1.92126584,  1.29889186],\n",
       "        [-1.53906708,  2.54886681],\n",
       "        [ 1.68289011,  0.48444439],\n",
       "        [-2.29730252,  2.94951326],\n",
       "        [-1.45592743,  2.75821805],\n",
       "        [-1.38694171,  2.86880707],\n",
       "        [-1.07181456,  3.07649137],\n",
       "        [ 1.40883907,  1.03118909],\n",
       "        [-1.58598604,  2.57779316],\n",
       "        [-1.58217434,  3.42796862],\n",
       "        [-0.77966174,  1.88288975],\n",
       "        [ 0.56969694,  3.44064603],\n",
       "        [-1.8531083 ,  2.72240557],\n",
       "        [ 1.59885641,  1.4561718 ],\n",
       "        [-1.84094779,  2.6773687 ],\n",
       "        [ 1.35678894,  4.36462484],\n",
       "        [ 1.1774409 ,  3.96138228],\n",
       "        [ 1.73345832, -0.21403792],\n",
       "        [ 2.34356293,  0.79351428],\n",
       "        [-0.95073823,  3.45769156],\n",
       "        [-2.23893447,  2.67122232],\n",
       "        [-1.87292894,  3.68607079],\n",
       "        [-1.8897027 ,  2.22620028],\n",
       "        [ 2.25327088,  0.35113291],\n",
       "        [ 1.55515985,  0.12527811]]),\n",
       " array([1, 0, 0, 0, 1, 0, 0, 1, 2, 0, 1, 2, 2, 0, 0, 2, 2, 1, 2, 1, 0, 1,\n",
       "        0, 0, 2, 1, 1, 0, 2, 1, 2, 2, 2, 2, 0, 1, 1, 1, 0, 0, 2, 2, 0, 1,\n",
       "        1, 1, 2, 0, 2, 0, 1, 0, 0, 1, 1, 2, 0, 1, 2, 0, 2, 2, 2, 2, 0, 2,\n",
       "        0, 1, 0, 0, 0, 1, 1, 0, 1, 0, 0, 2, 2, 0, 1, 1, 0, 0, 1, 1, 1, 2,\n",
       "        2, 1, 1, 0, 1, 0, 1, 0, 2, 2, 1, 1, 1, 1, 2, 1, 1, 0, 2, 0, 0, 0,\n",
       "        2, 0, 1, 2, 0, 2, 0, 0, 2, 2, 0, 1, 0, 0, 1, 1, 2, 1, 2, 2, 2, 2,\n",
       "        1, 2, 2, 2, 0, 2, 1, 2, 0, 0, 1, 1, 2, 2, 2, 2, 1, 1]))"
      ]
     },
     "execution_count": 2,
     "metadata": {},
     "output_type": "execute_result"
    }
   ],
   "source": [
    "X, y"
   ]
  },
  {
   "cell_type": "code",
   "execution_count": 3,
   "metadata": {},
   "outputs": [
    {
     "data": {
      "image/png": "[encoded data removed]",
      "text/plain": [
       "<Figure size 864x576 with 1 Axes>"
      ]
     },
     "metadata": {
      "needs_background": "light"
     },
     "output_type": "display_data"
    }
   ],
   "source": [
    "# set figure size\n",
    "plt.rcParams[\"figure.figsize\"] = (12,8)\n",
    "\n",
    "# plot clusters\n",
    "plt.scatter(X[:,0],\n",
    "            X[:,1],\n",
    "            c='black',\n",
    "            marker='o')\n",
    "plt.grid()\n",
    "plt.show()"
   ]
  },
  {
   "cell_type": "code",
   "execution_count": 4,
   "metadata": {},
   "outputs": [],
   "source": [
    "# import make_moons from sklearn\n",
    "from sklearn.datasets import make_moons\n",
    "\n",
    "# import DBSCAN\n",
    "from sklearn.cluster import DBSCAN"
   ]
  },
  {
   "cell_type": "code",
   "execution_count": 5,
   "metadata": {},
   "outputs": [],
   "source": [
    "db = DBSCAN(eps=0.5,\n",
    "            min_samples=5,\n",
    "            metric='euclidean')"
   ]
  },
  {
   "cell_type": "code",
   "execution_count": 6,
   "metadata": {},
   "outputs": [],
   "source": [
    "# fit and predict\n",
    "y_db = db.fit_predict(X)"
   ]
  },
  {
   "cell_type": "code",
   "execution_count": 7,
   "metadata": {},
   "outputs": [
    {
     "data": {
      "text/plain": [
       "array([ 0,  1,  1,  1,  0, -1, -1,  0,  2, -1,  0, -1,  2,  1,  1,  2,  2,\n",
       "        0,  2,  0,  1,  0,  1,  1,  2,  0,  0,  1,  2,  0,  2,  2,  2,  2,\n",
       "        1,  0,  0,  0,  1,  1, -1,  2,  1,  0,  0,  0,  2, -1,  2,  1,  0,\n",
       "        1,  1,  0,  0,  2,  1,  0,  2,  1,  2, -1,  2,  2,  1, -1,  1,  0,\n",
       "        1, -1,  1,  0,  0,  1,  0,  1,  1,  2,  2,  1,  0,  0,  1,  1,  0,\n",
       "        0,  0,  2,  2,  0,  0,  1,  0,  1,  0,  1,  2,  2,  0,  0,  0,  0,\n",
       "        2,  0,  0,  1,  2,  1,  1,  1,  2,  1,  0,  2,  1,  2,  1,  1,  2,\n",
       "        2,  1,  0,  1,  1,  0,  0,  2,  0,  2,  2,  2,  2,  0,  2,  2, -1,\n",
       "        1,  2,  0,  2,  1,  1,  0,  0,  2,  2,  2,  2,  0,  0])"
      ]
     },
     "execution_count": 7,
     "metadata": {},
     "output_type": "execute_result"
    }
   ],
   "source": [
    "y_db"
   ]
  },
  {
   "cell_type": "code",
   "execution_count": 8,
   "metadata": {},
   "outputs": [
    {
     "data": {
      "image/png": "[encoded data removed]",
      "text/plain": [
       "<Figure size 864x576 with 1 Axes>"
      ]
     },
     "metadata": {
      "needs_background": "light"
     },
     "output_type": "display_data"
    }
   ],
   "source": [
    "# Plot DBSCAN clusters\n",
    "plot_clusters(X,y_db)"
   ]
  },
  {
   "cell_type": "code",
   "execution_count": 9,
   "metadata": {},
   "outputs": [],
   "source": [
    "# generate moon-shape data\n",
    "X, y = make_moons(n_samples=200,\n",
    "                  noise=0.05,\n",
    "                  random_state=0)"
   ]
  },
  {
   "cell_type": "code",
   "execution_count": 10,
   "metadata": {},
   "outputs": [
    {
     "data": {
      "text/plain": [
       "(array([[ 0.81680544,  0.5216447 ],\n",
       "        [ 1.61859642, -0.37982927],\n",
       "        [-0.02126953,  0.27372826],\n",
       "        [-1.02181041, -0.07543984],\n",
       "        [ 1.76654633, -0.17069874],\n",
       "        [ 1.8820287 , -0.04238449],\n",
       "        [ 0.97481551,  0.20999374],\n",
       "        [ 0.88798782, -0.48936735],\n",
       "        [ 0.89865156,  0.36637762],\n",
       "        [ 1.11638974, -0.53460385],\n",
       "        [-0.36380036,  0.82790185],\n",
       "        [ 0.24702417, -0.23856676],\n",
       "        [ 1.81658658, -0.13088387],\n",
       "        [ 1.2163905 , -0.40685761],\n",
       "        [-0.8236696 ,  0.64235178],\n",
       "        [ 0.98065583,  0.20850838],\n",
       "        [ 0.54097175,  0.88616823],\n",
       "        [ 0.348031  , -0.30101351],\n",
       "        [ 0.35181497,  0.88827765],\n",
       "        [-0.77708642,  0.82253872],\n",
       "        [ 1.92590813,  0.01214146],\n",
       "        [ 0.86096723, -0.47653216],\n",
       "        [ 0.19990695,  0.99672359],\n",
       "        [ 1.2895301 , -0.37071087],\n",
       "        [-0.27847636,  1.02538452],\n",
       "        [ 0.24187916, -0.07627812],\n",
       "        [ 1.84988768, -0.09773674],\n",
       "        [ 1.88406869,  0.0449402 ],\n",
       "        [ 0.165822  , -0.08613126],\n",
       "        [ 0.13861369,  0.89639036],\n",
       "        [ 0.89087024,  0.52265882],\n",
       "        [-0.22806587,  0.84091882],\n",
       "        [ 0.98279208, -0.46457771],\n",
       "        [ 0.04237749,  0.19457898],\n",
       "        [ 0.76422612,  0.67223332],\n",
       "        [ 1.91108938,  0.21178339],\n",
       "        [ 0.43608432, -0.23007221],\n",
       "        [ 0.96186938,  0.09923426],\n",
       "        [-0.84336684,  0.52414334],\n",
       "        [-0.04122466,  0.35721873],\n",
       "        [ 0.55507653, -0.42493298],\n",
       "        [-0.4388286 ,  0.85940389],\n",
       "        [ 0.6532646 ,  0.71235382],\n",
       "        [ 0.10274835,  0.06721414],\n",
       "        [ 1.5486824 , -0.34012196],\n",
       "        [-0.37318371,  0.95506411],\n",
       "        [ 1.01706978,  0.19210044],\n",
       "        [-0.71923685,  0.65476676],\n",
       "        [ 0.16135772, -0.10771978],\n",
       "        [ 0.86434045, -0.4594568 ],\n",
       "        [-0.69717533,  0.80133734],\n",
       "        [ 0.32791175, -0.19619019],\n",
       "        [ 1.98046734,  0.03848682],\n",
       "        [-0.90479784,  0.05723938],\n",
       "        [ 1.04515397, -0.50020349],\n",
       "        [ 0.7534213 ,  0.65688005],\n",
       "        [ 0.54968577,  0.73635744],\n",
       "        [ 1.24038086, -0.47577903],\n",
       "        [ 0.24918868,  0.94246199],\n",
       "        [-0.20756105,  0.99290594],\n",
       "        [ 0.35136403, -0.29065432],\n",
       "        [-1.01628753,  0.16290244],\n",
       "        [ 1.78137056, -0.1244931 ],\n",
       "        [ 0.87423825,  0.53065346],\n",
       "        [ 1.09997644, -0.46733763],\n",
       "        [-1.07022744,  0.2365448 ],\n",
       "        [-0.15869858,  1.01497482],\n",
       "        [ 1.46569247, -0.3808977 ],\n",
       "        [ 0.03025209,  0.97792142],\n",
       "        [-0.9365943 ,  0.45674926],\n",
       "        [ 0.66038307, -0.46576222],\n",
       "        [-0.99144728,  0.40662094],\n",
       "        [ 0.46339847, -0.46605416],\n",
       "        [-0.132006  ,  0.52447234],\n",
       "        [ 0.81566997, -0.42821617],\n",
       "        [-0.94820947,  0.37717096],\n",
       "        [ 0.05300205,  0.18597406],\n",
       "        [ 0.92648634,  0.40988975],\n",
       "        [ 0.60689997,  0.78279323],\n",
       "        [ 0.72961391, -0.37215252],\n",
       "        [ 1.9796026 ,  0.12425417],\n",
       "        [-0.02053902,  0.97601558],\n",
       "        [ 0.63818364, -0.49916763],\n",
       "        [ 2.00639179,  0.44597642],\n",
       "        [ 0.02315539,  0.24035667],\n",
       "        [-0.35883877,  1.02716833],\n",
       "        [ 0.95414653,  0.04177433],\n",
       "        [-0.33921532,  0.96308888],\n",
       "        [ 0.59950492, -0.39774852],\n",
       "        [ 1.99019644,  0.39360049],\n",
       "        [ 0.33125729,  0.9365782 ],\n",
       "        [ 0.99460422,  0.35063363],\n",
       "        [ 1.98845457,  0.2628361 ],\n",
       "        [-0.67473718,  0.76419738],\n",
       "        [ 2.00751107,  0.3651166 ],\n",
       "        [ 1.78298331, -0.11490401],\n",
       "        [ 1.73616653, -0.22781554],\n",
       "        [ 0.40646216, -0.25422904],\n",
       "        [-1.02505346,  0.24337404],\n",
       "        [ 0.06414296,  0.07759793],\n",
       "        [ 1.30092145, -0.58089757],\n",
       "        [ 1.97425572,  0.30889897],\n",
       "        [ 0.03228388,  1.07937745],\n",
       "        [ 1.03086156, -0.02389082],\n",
       "        [-0.90062492,  0.30653639],\n",
       "        [ 0.08068561,  0.29131373],\n",
       "        [-0.98807765,  0.1039765 ],\n",
       "        [-0.47394435,  0.96143212],\n",
       "        [ 1.54651932, -0.35008497],\n",
       "        [ 0.23332453,  0.89648984],\n",
       "        [-0.58481687,  0.80318956],\n",
       "        [ 0.0374878 ,  1.02322111],\n",
       "        [-0.01943215,  1.07001032],\n",
       "        [-0.85323667,  0.39896937],\n",
       "        [ 0.92635535,  0.37695326],\n",
       "        [ 1.43250553, -0.50148981],\n",
       "        [ 0.60622756,  0.66229531],\n",
       "        [ 1.94401554,  0.13685573],\n",
       "        [ 0.57984414, -0.39868907],\n",
       "        [ 0.74317519,  0.50998316],\n",
       "        [ 0.87116686,  0.54105191],\n",
       "        [-0.71045745,  0.57281877],\n",
       "        [-0.03081568,  0.33644614],\n",
       "        [-0.0298505 ,  0.99553114],\n",
       "        [-0.06313347,  0.42194174],\n",
       "        [-0.79223214,  0.68354165],\n",
       "        [ 0.92098434,  0.04171051],\n",
       "        [ 0.17794377,  0.04536893],\n",
       "        [ 1.34934828, -0.3941652 ],\n",
       "        [ 1.98387143,  0.50898445],\n",
       "        [ 1.00104892,  0.27158454],\n",
       "        [-0.5425424 ,  0.76257612],\n",
       "        [-0.9969011 ,  0.47226403],\n",
       "        [ 0.23408511, -0.15381658],\n",
       "        [ 1.21437019, -0.40862022],\n",
       "        [ 1.60101745, -0.17940652],\n",
       "        [ 1.15844202, -0.40408591],\n",
       "        [-1.00922523,  0.2161359 ],\n",
       "        [ 2.01865957,  0.50313426],\n",
       "        [ 0.88839866,  0.39017093],\n",
       "        [ 0.10170896, -0.01206481],\n",
       "        [-0.01241966,  0.47064905],\n",
       "        [ 0.44566504,  0.94595998],\n",
       "        [-0.3569344 ,  0.98319206],\n",
       "        [-0.43845037,  0.88374167],\n",
       "        [ 1.01534178,  0.06687469],\n",
       "        [ 0.2310607 ,  0.01153495],\n",
       "        [ 1.35098772, -0.44520507],\n",
       "        [ 0.25423421,  1.0205525 ],\n",
       "        [-0.00586456,  0.24919627],\n",
       "        [ 0.4752852 , -0.37028432],\n",
       "        [ 1.68071768, -0.34775296],\n",
       "        [ 0.84564282,  0.45629647],\n",
       "        [ 0.34218757,  0.90613948],\n",
       "        [ 0.58741368, -0.35078742],\n",
       "        [-0.17818292,  0.96641541],\n",
       "        [ 1.25865528, -0.4740009 ],\n",
       "        [ 0.33542814, -0.18023343],\n",
       "        [ 0.52630774,  0.94876068],\n",
       "        [ 0.6424051 ,  0.77717105],\n",
       "        [ 0.15770292,  0.04709417],\n",
       "        [ 1.11178863, -0.5065278 ],\n",
       "        [ 0.60370903,  0.83759912],\n",
       "        [ 1.48247118, -0.32721961],\n",
       "        [ 0.39793421, -0.36876588],\n",
       "        [ 1.67240934, -0.09328043],\n",
       "        [ 0.47551295,  0.85547255],\n",
       "        [ 0.70605116, -0.42241887],\n",
       "        [ 1.56418943, -0.34860626],\n",
       "        [ 0.94012854, -0.57508877],\n",
       "        [ 0.61400301,  0.83833823],\n",
       "        [-1.07139757,  0.02669316],\n",
       "        [-0.91308996,  0.52626435],\n",
       "        [-0.74824469,  0.51823742],\n",
       "        [ 0.14688241,  0.0297201 ],\n",
       "        [ 0.94362014, -0.44829425],\n",
       "        [ 1.84489829,  0.40601924],\n",
       "        [-0.66827347,  0.69085682],\n",
       "        [-0.7362418 ,  0.59951884],\n",
       "        [ 0.60146482,  0.72551706],\n",
       "        [ 1.47437703, -0.37541022],\n",
       "        [-0.88760005,  0.50864517],\n",
       "        [ 1.92892164,  0.18201791],\n",
       "        [ 1.78673422, -0.27470711],\n",
       "        [ 1.95130228,  0.26574549],\n",
       "        [ 0.33471666,  0.98057089],\n",
       "        [-0.16884749,  0.89206411],\n",
       "        [ 0.77063994, -0.51750338],\n",
       "        [-0.88700503,  0.36696366],\n",
       "        [-0.62886492,  0.79087211],\n",
       "        [-0.93006783,  0.38754885],\n",
       "        [ 0.42447858,  0.93268774],\n",
       "        [ 0.80861392,  0.53599924],\n",
       "        [ 0.94000928,  0.27111431],\n",
       "        [-0.01609181,  0.37369612],\n",
       "        [-0.53633385,  0.86026837],\n",
       "        [ 1.88281749,  0.24435589],\n",
       "        [ 0.17575161, -0.007231  ],\n",
       "        [ 0.12423604,  1.00790161],\n",
       "        [ 1.62152568, -0.22328525]]),\n",
       " array([0, 1, 1, 0, 1, 1, 0, 1, 0, 1, 0, 1, 1, 1, 0, 0, 0, 1, 0, 0, 1, 1,\n",
       "        0, 1, 0, 1, 1, 1, 1, 0, 0, 0, 1, 1, 0, 1, 1, 0, 0, 1, 1, 0, 0, 1,\n",
       "        1, 0, 0, 0, 1, 1, 0, 1, 1, 0, 1, 0, 0, 1, 0, 0, 1, 0, 1, 0, 1, 0,\n",
       "        0, 1, 0, 0, 1, 0, 1, 1, 1, 0, 1, 0, 0, 1, 1, 0, 1, 1, 1, 0, 0, 0,\n",
       "        1, 1, 0, 0, 1, 0, 1, 1, 1, 1, 0, 1, 1, 1, 0, 0, 0, 1, 0, 0, 1, 0,\n",
       "        0, 0, 0, 0, 0, 1, 0, 1, 1, 0, 0, 0, 1, 0, 1, 0, 0, 1, 1, 1, 0, 0,\n",
       "        0, 1, 1, 1, 1, 0, 1, 0, 1, 1, 0, 0, 0, 0, 1, 1, 0, 1, 1, 1, 0, 0,\n",
       "        1, 0, 1, 1, 0, 0, 1, 1, 0, 1, 1, 1, 0, 1, 1, 1, 0, 0, 0, 0, 1, 1,\n",
       "        1, 0, 0, 0, 1, 0, 1, 1, 1, 0, 0, 1, 0, 0, 0, 0, 0, 0, 1, 0, 1, 1,\n",
       "        0, 1]))"
      ]
     },
     "execution_count": 10,
     "metadata": {},
     "output_type": "execute_result"
    }
   ],
   "source": [
    "X, y"
   ]
  },
  {
   "cell_type": "code",
   "execution_count": 11,
   "metadata": {},
   "outputs": [
    {
     "data": {
      "image/png": "[encoded data removed]",
      "text/plain": [
       "<Figure size 864x576 with 1 Axes>"
      ]
     },
     "metadata": {
      "needs_background": "light"
     },
     "output_type": "display_data"
    }
   ],
   "source": [
    "# plot data\n",
    "plt.scatter(X[:,0], X[:,1])\n",
    "plt.show()"
   ]
  },
  {
   "cell_type": "code",
   "execution_count": 12,
   "metadata": {},
   "outputs": [],
   "source": [
    "# import k-means\n",
    "from sklearn.cluster import KMeans\n",
    "\n",
    "# Fit K-means\n",
    "km = KMeans(n_clusters=2, # how many clusters we expected \n",
    "            n_init=10,\n",
    "            random_state=0,)\n",
    "\n",
    "y_km = km.fit_predict(X)\n",
    "\n"
   ]
  },
  {
   "cell_type": "code",
   "execution_count": 13,
   "metadata": {},
   "outputs": [
    {
     "data": {
      "text/plain": [
       "array([1, 1, 0, 0, 1, 1, 1, 1, 1, 1, 0, 0, 1, 1, 0, 1, 0, 1, 0, 0, 1, 1,\n",
       "       0, 1, 0, 0, 1, 1, 0, 0, 1, 0, 1, 0, 1, 1, 1, 1, 0, 0, 1, 0, 0, 0,\n",
       "       1, 0, 1, 0, 0, 1, 0, 1, 1, 0, 1, 1, 0, 1, 0, 0, 1, 0, 1, 1, 1, 0,\n",
       "       0, 1, 0, 0, 1, 0, 1, 0, 1, 0, 0, 1, 0, 1, 1, 0, 1, 1, 0, 0, 1, 0,\n",
       "       1, 1, 0, 1, 1, 0, 1, 1, 1, 1, 0, 0, 1, 1, 0, 1, 0, 0, 0, 0, 1, 0,\n",
       "       0, 0, 0, 0, 1, 1, 0, 1, 1, 1, 1, 0, 0, 0, 0, 0, 1, 0, 1, 1, 1, 0,\n",
       "       0, 0, 1, 1, 1, 0, 1, 1, 0, 0, 0, 0, 0, 1, 0, 1, 0, 0, 1, 1, 1, 0,\n",
       "       1, 0, 1, 1, 0, 0, 0, 1, 0, 1, 1, 1, 0, 1, 1, 1, 0, 0, 0, 0, 0, 1,\n",
       "       1, 0, 0, 0, 1, 0, 1, 1, 1, 0, 0, 1, 0, 0, 0, 0, 1, 1, 0, 0, 1, 0,\n",
       "       0, 1], dtype=int32)"
      ]
     },
     "execution_count": 13,
     "metadata": {},
     "output_type": "execute_result"
    }
   ],
   "source": [
    "y_km"
   ]
  },
  {
   "cell_type": "code",
   "execution_count": 14,
   "metadata": {},
   "outputs": [
    {
     "data": {
      "image/png": "[encoded data removed]",
      "text/plain": [
       "<Figure size 864x576 with 1 Axes>"
      ]
     },
     "metadata": {
      "needs_background": "light"
     },
     "output_type": "display_data"
    }
   ],
   "source": [
    "# plot K-means clusters\n",
    "plot_clusters(X,y_km,plt_cluster_centers=True)"
   ]
  },
  {
   "cell_type": "code",
   "execution_count": 15,
   "metadata": {},
   "outputs": [],
   "source": [
    "# import Agglomerative clustering\n",
    "from sklearn.cluster import AgglomerativeClustering\n",
    "\n",
    "# fit Agglomerative clustering\n",
    "ac = AgglomerativeClustering(affinity='euclidean',\n",
    "                             linkage='ward',\n",
    "                             n_clusters = 2)\n",
    "y_hc = ac.fit_predict(X)"
   ]
  },
  {
   "cell_type": "code",
   "execution_count": 16,
   "metadata": {},
   "outputs": [
    {
     "data": {
      "text/plain": [
       "array([0, 1, 0, 0, 1, 1, 0, 1, 0, 1, 0, 0, 1, 1, 0, 0, 0, 0, 0, 0, 1, 1,\n",
       "       0, 1, 0, 0, 1, 1, 0, 0, 0, 0, 1, 0, 0, 1, 0, 0, 0, 0, 1, 0, 0, 0,\n",
       "       1, 0, 0, 0, 0, 1, 0, 0, 1, 0, 1, 0, 0, 1, 0, 0, 0, 0, 1, 0, 1, 0,\n",
       "       0, 1, 0, 0, 1, 0, 0, 0, 1, 0, 0, 0, 0, 1, 1, 0, 1, 1, 0, 0, 0, 0,\n",
       "       1, 1, 0, 0, 1, 0, 1, 1, 1, 0, 0, 0, 1, 1, 0, 0, 0, 0, 0, 0, 1, 0,\n",
       "       0, 0, 0, 0, 0, 1, 0, 1, 1, 0, 0, 0, 0, 0, 0, 0, 0, 0, 1, 1, 0, 0,\n",
       "       0, 0, 1, 1, 1, 0, 1, 0, 0, 0, 0, 0, 0, 0, 0, 1, 0, 0, 0, 1, 0, 0,\n",
       "       1, 0, 1, 0, 0, 0, 0, 1, 0, 1, 0, 1, 0, 1, 1, 1, 0, 0, 0, 0, 0, 1,\n",
       "       1, 0, 0, 0, 1, 0, 1, 1, 1, 0, 0, 1, 0, 0, 0, 0, 0, 0, 0, 0, 1, 0,\n",
       "       0, 1])"
      ]
     },
     "execution_count": 16,
     "metadata": {},
     "output_type": "execute_result"
    }
   ],
   "source": [
    "y_hc"
   ]
  },
  {
   "cell_type": "code",
   "execution_count": 17,
   "metadata": {},
   "outputs": [
    {
     "data": {
      "image/png": "[encoded data removed]",
      "text/plain": [
       "<Figure size 864x576 with 1 Axes>"
      ]
     },
     "metadata": {
      "needs_background": "light"
     },
     "output_type": "display_data"
    }
   ],
   "source": [
    "# plot HC clusters\n",
    "plot_clusters(X,y_hc)"
   ]
  },
  {
   "cell_type": "code",
   "execution_count": 18,
   "metadata": {},
   "outputs": [],
   "source": [
    "# fit DBSCAN\n",
    "db = DBSCAN(eps=0.2,\n",
    "            min_samples=5,\n",
    "            metric='euclidean')\n",
    "\n",
    "y_db = db.fit_predict(X)"
   ]
  },
  {
   "cell_type": "code",
   "execution_count": 19,
   "metadata": {},
   "outputs": [
    {
     "data": {
      "text/plain": [
       "array([0, 1, 1, 0, 1, 1, 0, 1, 0, 1, 0, 1, 1, 1, 0, 0, 0, 1, 0, 0, 1, 1,\n",
       "       0, 1, 0, 1, 1, 1, 1, 0, 0, 0, 1, 1, 0, 1, 1, 0, 0, 1, 1, 0, 0, 1,\n",
       "       1, 0, 0, 0, 1, 1, 0, 1, 1, 0, 1, 0, 0, 1, 0, 0, 1, 0, 1, 0, 1, 0,\n",
       "       0, 1, 0, 0, 1, 0, 1, 1, 1, 0, 1, 0, 0, 1, 1, 0, 1, 1, 1, 0, 0, 0,\n",
       "       1, 1, 0, 0, 1, 0, 1, 1, 1, 1, 0, 1, 1, 1, 0, 0, 0, 1, 0, 0, 1, 0,\n",
       "       0, 0, 0, 0, 0, 1, 0, 1, 1, 0, 0, 0, 1, 0, 1, 0, 0, 1, 1, 1, 0, 0,\n",
       "       0, 1, 1, 1, 1, 0, 1, 0, 1, 1, 0, 0, 0, 0, 1, 1, 0, 1, 1, 1, 0, 0,\n",
       "       1, 0, 1, 1, 0, 0, 1, 1, 0, 1, 1, 1, 0, 1, 1, 1, 0, 0, 0, 0, 1, 1,\n",
       "       1, 0, 0, 0, 1, 0, 1, 1, 1, 0, 0, 1, 0, 0, 0, 0, 0, 0, 1, 0, 1, 1,\n",
       "       0, 1])"
      ]
     },
     "execution_count": 19,
     "metadata": {},
     "output_type": "execute_result"
    }
   ],
   "source": [
    "y_db"
   ]
  },
  {
   "cell_type": "code",
   "execution_count": 20,
   "metadata": {},
   "outputs": [
    {
     "data": {
      "text/plain": [
       "True"
      ]
     },
     "execution_count": 20,
     "metadata": {},
     "output_type": "execute_result"
    }
   ],
   "source": [
    "np.array_equal(y, y_db)"
   ]
  },
  {
   "cell_type": "code",
   "execution_count": 21,
   "metadata": {},
   "outputs": [
    {
     "data": {
      "image/png": "[encoded data removed]",
      "text/plain": [
       "<Figure size 864x576 with 1 Axes>"
      ]
     },
     "metadata": {
      "needs_background": "light"
     },
     "output_type": "display_data"
    }
   ],
   "source": [
    "# plot DBSCAN clusters\n",
    "plot_clusters(X,y_db)"
   ]
  },
  {
   "cell_type": "code",
   "execution_count": null,
   "metadata": {},
   "outputs": [],
   "source": []
  }
 ],
 "metadata": {
  "kernelspec": {
   "display_name": "Python 3",
   "language": "python",
   "name": "python3"
  },
  "language_info": {
   "codemirror_mode": {
    "name": "ipython",
    "version": 3
   },
   "file_extension": ".py",
   "mimetype": "text/x-python",
   "name": "python",
   "nbconvert_exporter": "python",
   "pygments_lexer": "ipython3",
   "version": "3.8.3"
  }
 },
 "nbformat": 4,
 "nbformat_minor": 4
}
